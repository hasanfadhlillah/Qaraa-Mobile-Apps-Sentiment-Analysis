{
 "cells": [
  {
   "cell_type": "markdown",
   "id": "81867287",
   "metadata": {},
   "source": [
    "# **Scraping Ulasan Aplikasi \"Qara'a - Belajar Ngaji Quran\"**"
   ]
  },
  {
   "cell_type": "markdown",
   "id": "4d40f453",
   "metadata": {},
   "source": [
    "## 1. Instalasi dan Import Library"
   ]
  },
  {
   "cell_type": "code",
   "execution_count": 1,
   "id": "baf298be",
   "metadata": {},
   "outputs": [
    {
     "name": "stdout",
     "output_type": "stream",
     "text": [
      "Requirement already satisfied: google-play-scraper in d:\\anaconda\\envs\\dsml\\lib\\site-packages (1.2.7)\n",
      "Requirement already satisfied: pandas in d:\\anaconda\\envs\\dsml\\lib\\site-packages (1.5.3)\n",
      "Requirement already satisfied: pytz>=2020.1 in d:\\anaconda\\envs\\dsml\\lib\\site-packages (from pandas) (2022.7)\n",
      "Requirement already satisfied: python-dateutil>=2.8.1 in d:\\anaconda\\envs\\dsml\\lib\\site-packages (from pandas) (2.8.2)\n",
      "Requirement already satisfied: numpy>=1.21.0 in d:\\anaconda\\envs\\dsml\\lib\\site-packages (from pandas) (1.26.4)\n",
      "Requirement already satisfied: six>=1.5 in d:\\anaconda\\envs\\dsml\\lib\\site-packages (from python-dateutil>=2.8.1->pandas) (1.16.0)\n",
      "Note: you may need to restart the kernel to use updated packages.\n"
     ]
    }
   ],
   "source": [
    "# Instalasi dan Import Library\n",
    "%pip install google-play-scraper pandas\n",
    "\n",
    "from google_play_scraper import app, reviews_all, Sort\n",
    "import pandas as pd\n",
    "import json\n",
    "import os"
   ]
  },
  {
   "cell_type": "markdown",
   "id": "8b6e2b84",
   "metadata": {},
   "source": [
    "## 2. Konfigurasi Scraping"
   ]
  },
  {
   "cell_type": "code",
   "execution_count": 2,
   "id": "f062eaa8",
   "metadata": {},
   "outputs": [],
   "source": [
    "# Konfigurasi Scraping\n",
    "app_id = 'com.bismillah.amaljariyah'  # ID Aplikasi Qara'a\n",
    "target_reviews_count = 15000 # Target jumlah ulasan (minimal 10.000 untuk Saran 4)\n",
    "country_code = 'id'          # Kode negara (Indonesia)\n",
    "language_code = 'id'         # Kode bahasa (Indonesia)\n",
    "\n",
    "# Membuat folder untuk menyimpan dataset jika belum ada\n",
    "output_folder = 'dataset_scraped'\n",
    "if not os.path.exists(output_folder):\n",
    "    os.makedirs(output_folder)\n",
    "csv_output_path = os.path.join(output_folder, 'qaraa_reviews_scraped.csv')\n",
    "json_output_path = os.path.join(output_folder, 'qaraa_reviews_scraped.json')"
   ]
  },
  {
   "cell_type": "markdown",
   "id": "f601aae5",
   "metadata": {},
   "source": [
    "## 3. Proses Scraping dan Menyimpan Hasil Scrapping"
   ]
  },
  {
   "cell_type": "code",
   "execution_count": 3,
   "id": "92472967",
   "metadata": {},
   "outputs": [
    {
     "name": "stdout",
     "output_type": "stream",
     "text": [
      "Memulai scraping ulasan untuk aplikasi: com.bismillah.amaljariyah\n",
      "Target jumlah ulasan: 15000\n",
      "Berhasil mengambil 11366 ulasan.\n",
      "\n",
      "Berhasil membuat DataFrame dengan 11366 baris dan 11 kolom.\n",
      "\n",
      "Contoh 5 ulasan pertama:\n",
      "                               reviewId         userName  \\\n",
      "0  9551cfa2-4552-4b55-baa8-073880f214d2  Pengguna Google   \n",
      "1  3df7b8be-e97b-41c0-b79b-71704e390519  Pengguna Google   \n",
      "2  a3fd4595-b2fe-4b13-8723-6e72bcd22e8a  Pengguna Google   \n",
      "3  eff8cb1e-86b4-4e42-a7a8-0c876c2dc813  Pengguna Google   \n",
      "4  b9d545ed-567b-40b3-aec2-15067d426d6a  Pengguna Google   \n",
      "\n",
      "                                           userImage  \\\n",
      "0  https://play-lh.googleusercontent.com/EGemoI2N...   \n",
      "1  https://play-lh.googleusercontent.com/EGemoI2N...   \n",
      "2  https://play-lh.googleusercontent.com/EGemoI2N...   \n",
      "3  https://play-lh.googleusercontent.com/EGemoI2N...   \n",
      "4  https://play-lh.googleusercontent.com/EGemoI2N...   \n",
      "\n",
      "                                             content  score  thumbsUpCount  \\\n",
      "0  Tidak bisa d gunakan karena apa yg d pelajari ...      1              0   \n",
      "1  sebenarnya mau kasi bintang 5 tapi, aplikasi i...      4              0   \n",
      "2  bagus bgttt aplikasi nya memudahkan belajar Al...      5              0   \n",
      "3                                      Alhamdulillah      5              0   \n",
      "4                  sangat membantu pengetahuan agama      5              0   \n",
      "\n",
      "  reviewCreatedVersion                  at  \\\n",
      "0                 None 2025-05-27 06:40:13   \n",
      "1               5.1.24 2025-05-26 06:29:59   \n",
      "2               5.1.24 2025-05-26 06:10:32   \n",
      "3               5.1.24 2025-05-25 09:44:58   \n",
      "4               5.1.22 2025-05-23 18:07:12   \n",
      "\n",
      "                                        replyContent           repliedAt  \\\n",
      "0  Jazaka Allah khair, Sahabat, atas masukannya y... 2025-05-27 12:41:49   \n",
      "1  Masya Allah, senang banget dengar Qara’a bisa ... 2025-05-27 10:23:14   \n",
      "2  Masya Allah, terima kasih banyak ya sahabat! S... 2025-05-27 10:22:24   \n",
      "3  Alhamdulillah, sahabat! Terima kasih sudah bel... 2025-05-27 10:21:58   \n",
      "4  Masya Allah, terima kasih banyak atas ulasanny... 2025-05-27 10:21:27   \n",
      "\n",
      "  appVersion  \n",
      "0       None  \n",
      "1     5.1.24  \n",
      "2     5.1.24  \n",
      "3     5.1.24  \n",
      "4     5.1.22  \n",
      "\n",
      "Ulasan berhasil disimpan dalam format CSV di: dataset_scraped\\qaraa_reviews_scraped.csv\n",
      "Ulasan berhasil disimpan dalam format JSON di: dataset_scraped\\qaraa_reviews_scraped.json\n",
      "\n",
      "Proses scraping selesai.\n",
      "Jumlah ulasan yang di-scrape: 11366\n",
      "Jumlah ulasan memenuhi target minimal 10.000 sampel untuk Saran 4.\n"
     ]
    }
   ],
   "source": [
    "# Proses Scraping\n",
    "print(f\"Memulai scraping ulasan untuk aplikasi: {app_id}\")\n",
    "print(f\"Target jumlah ulasan: {target_reviews_count}\")\n",
    "\n",
    "try:\n",
    "    scraped_reviews = reviews_all(\n",
    "        app_id,\n",
    "        lang=language_code,\n",
    "        country=country_code,\n",
    "        sort=Sort.NEWEST, # Mengambil ulasan terbaru untuk variasi\n",
    "        count=target_reviews_count # Parameter count di reviews_all adalah batas, bisa jadi kurang dari ini\n",
    "    )\n",
    "    print(f\"Berhasil mengambil {len(scraped_reviews)} ulasan.\")\n",
    "\n",
    "    if not scraped_reviews:\n",
    "        print(\"Tidak ada ulasan yang berhasil diambil. Periksa kembali App ID atau koneksi internet.\")\n",
    "    else:\n",
    "        # Membuat DataFrame\n",
    "        df_reviews = pd.DataFrame(scraped_reviews)\n",
    "        print(f\"\\nBerhasil membuat DataFrame dengan {df_reviews.shape[0]} baris dan {df_reviews.shape[1]} kolom.\")\n",
    "        print(\"\\nContoh 5 ulasan pertama:\")\n",
    "        print(df_reviews.head())\n",
    "\n",
    "        # Menyimpan Hasil Scraping ke CSV\n",
    "        df_reviews.to_csv(csv_output_path, index=False, encoding='utf-8-sig')\n",
    "        print(f\"\\nUlasan berhasil disimpan dalam format CSV di: {csv_output_path}\")\n",
    "\n",
    "        # Menyimpan ke JSON (opsional, tapi baik untuk data semi-terstruktur)\n",
    "        # Mengubah DataFrame ke format list of dicts untuk JSON yang lebih rapi\n",
    "        df_for_json = df_reviews.copy()\n",
    "        if 'at' in df_for_json.columns:\n",
    "            df_for_json['at'] = df_for_json['at'].astype(str)\n",
    "        if 'repliedAt' in df_for_json.columns:\n",
    "            df_for_json['repliedAt'] = df_for_json['repliedAt'].astype(str)\n",
    "\n",
    "        reviews_json_data = df_for_json.to_dict(orient='records')\n",
    "        with open(json_output_path, 'w', encoding='utf-8') as f:\n",
    "            json.dump(reviews_json_data, f, ensure_ascii=False, indent=4)\n",
    "        print(f\"Ulasan berhasil disimpan dalam format JSON di: {json_output_path}\")\n",
    "\n",
    "        print(\"\\nProses scraping selesai.\")\n",
    "        print(f\"Jumlah ulasan yang di-scrape: {len(df_reviews)}\")\n",
    "        if len(df_reviews) >= 10000:\n",
    "            print(\"Jumlah ulasan memenuhi target minimal 10.000 sampel untuk Saran 4.\")\n",
    "        elif len(df_reviews) >= 3000:\n",
    "            print(\"Jumlah ulasan memenuhi target minimal 3.000 sampel untuk Kriteria Utama 1.\")\n",
    "        else:\n",
    "            print(\"PERHATIAN: Jumlah ulasan kurang dari 3.000. Anda mungkin perlu menjalankan scraping lagi atau mencoba mengambil dari sumber lain jika ulasan aplikasi ini terbatas.\")\n",
    "\n",
    "except Exception as e:\n",
    "    print(f\"Terjadi kesalahan saat scraping: {e}\")\n",
    "    print(\"Pastikan App ID benar dan Anda memiliki koneksi internet yang stabil.\")\n",
    "    print(\"Google Play Scraper terkadang memiliki batasan jumlah request, coba lagi nanti jika perlu.\")"
   ]
  }
 ],
 "metadata": {
  "kernelspec": {
   "display_name": "dsml",
   "language": "python",
   "name": "python3"
  },
  "language_info": {
   "codemirror_mode": {
    "name": "ipython",
    "version": 3
   },
   "file_extension": ".py",
   "mimetype": "text/x-python",
   "name": "python",
   "nbconvert_exporter": "python",
   "pygments_lexer": "ipython3",
   "version": "3.10.11"
  }
 },
 "nbformat": 4,
 "nbformat_minor": 5
}
